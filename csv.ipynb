{
 "cells": [
  {
   "cell_type": "code",
   "execution_count": 10,
   "metadata": {},
   "outputs": [],
   "source": [
    "import csv\n",
    "\n",
    "\n",
    "data = [\n",
    "    ['name', 'surname', 'sex', 'age', 'status'],\n",
    "    ['Vasya', 'Pupkin', 'male', 34, 'maried'],\n",
    "    ['Veronica', 'Pozarskaya', 'female', 25, 'single'],\n",
    "    ['Lev', 'Podolsky', 'male', 56, 'single'],\n",
    "    ['Nikolay', 'Kozevnikov', 'male', 45, 'maried'],\n",
    "    ['Anastasiya', 'Yarovaya', 'female', 34, 'single'],\n",
    "    ['Olga', 'Gudz', 'female', 46, 'single']\n",
    "]\n",
    "\n",
    "with open('data/write.csv', 'w', newline='') as file:\n",
    "    writer = csv.writer(file)\n",
    "    for row in data:\n",
    "        writer.writerow(row)"
   ]
  },
  {
   "cell_type": "code",
   "execution_count": 11,
   "metadata": {},
   "outputs": [
    {
     "name": "stdout",
     "output_type": "stream",
     "text": [
      "['name', 'surname', 'sex', 'age', 'status']\n",
      "['Vasya', 'Pupkin', 'male', '34', 'maried']\n",
      "['Veronica', 'Pozarskaya', 'female', '25', 'single']\n",
      "['Lev', 'Podolsky', 'male', '56', 'single']\n",
      "['Nikolay', 'Kozevnikov', 'male', '45', 'maried']\n",
      "['Anastasiya', 'Yarovaya', 'female', '34', 'single']\n",
      "['Olga', 'Gudz', 'female', '46', 'single']\n"
     ]
    }
   ],
   "source": [
    "import csv\n",
    "\n",
    "\n",
    "with open('data/write.csv', 'r') as file:\n",
    "    reader = csv.reader(file)\n",
    "    for row in reader:\n",
    "        print(row)"
   ]
  },
  {
   "cell_type": "code",
   "execution_count": 9,
   "metadata": {},
   "outputs": [
    {
     "name": "stdout",
     "output_type": "stream",
     "text": [
      "OrderedDict([('name', 'Vasya'), ('surnama', 'Pupkin'), ('sex', 'male'), ('age', '34'), ('status', 'maried')])\n",
      "OrderedDict([('name', 'Veronica'), ('surnama', 'Pozarskaya'), ('sex', 'female'), ('age', '25'), ('status', 'single')])\n",
      "OrderedDict([('name', 'Lev'), ('surnama', 'Podolsky'), ('sex', 'male'), ('age', '56'), ('status', 'single')])\n",
      "OrderedDict([('name', 'Nikolay'), ('surnama', 'Kozevnikov'), ('sex', 'male'), ('age', '45'), ('status', 'maried')])\n",
      "OrderedDict([('name', 'Anastasiya'), ('surnama', 'Yarovaya'), ('sex', 'female'), ('age', '34'), ('status', 'single')])\n",
      "OrderedDict([('name', 'Olga'), ('surnama', 'Gudz'), ('sex', 'female'), ('age', '46'), ('status', 'single')])\n"
     ]
    }
   ],
   "source": [
    "import csv\n",
    "\n",
    "\n",
    "with open('data/write.csv', 'r') as file:\n",
    "    reader = csv.DictReader(file)\n",
    "    for row in reader:\n",
    "        print(row)"
   ]
  },
  {
   "cell_type": "code",
   "execution_count": null,
   "metadata": {},
   "outputs": [],
   "source": []
  }
 ],
 "metadata": {
  "kernelspec": {
   "display_name": "Python 3",
   "language": "python",
   "name": "python3"
  },
  "language_info": {
   "codemirror_mode": {
    "name": "ipython",
    "version": 3
   },
   "file_extension": ".py",
   "mimetype": "text/x-python",
   "name": "python",
   "nbconvert_exporter": "python",
   "pygments_lexer": "ipython3",
   "version": "3.7.3"
  }
 },
 "nbformat": 4,
 "nbformat_minor": 2
}
