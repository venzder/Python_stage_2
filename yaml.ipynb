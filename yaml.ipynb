{
 "cells": [
  {
   "cell_type": "code",
   "execution_count": 1,
   "metadata": {},
   "outputs": [],
   "source": [
    "import yaml\n",
    "\n",
    "data = [\n",
    "    {'name': 'Vasya', 'surname': 'Pupkin', 'sex': 'male', 'age': 34, 'status': 'maried'},\n",
    "    {'name': 'Veronica', 'surname': 'Pozarskaya', 'sex': 'female', 'age': 25, 'status': 'single'},\n",
    "    {'name': 'Lev', 'surname': 'Podolsky', 'sex': 'male', 'age': 56, 'status': 'single'},\n",
    "    {'name': 'Nikolay', 'surname': 'Kozevnikov', 'sex': 'male', 'age': 45, 'status': 'maried'},\n",
    "    {'name': 'Anastasiya', 'surname': 'Yarovaya', 'sex': 'female', 'age': 34, 'status': 'single'},\n",
    "    {'name': 'Olga', 'surname': 'Gudz', 'sex': 'female', 'age': 46, 'status': 'single'},\n",
    "]\n",
    "\n",
    "with open('data/write.yml', 'w') as file:\n",
    "    yaml.dump(data, file, Dumper=yaml.Dumper)"
   ]
  },
  {
   "cell_type": "code",
   "execution_count": null,
   "metadata": {},
   "outputs": [],
   "source": []
  }
 ],
 "metadata": {
  "kernelspec": {
   "display_name": "Python 3",
   "language": "python",
   "name": "python3"
  },
  "language_info": {
   "codemirror_mode": {
    "name": "ipython",
    "version": 3
   },
   "file_extension": ".py",
   "mimetype": "text/x-python",
   "name": "python",
   "nbconvert_exporter": "python",
   "pygments_lexer": "ipython3",
   "version": "3.7.3"
  }
 },
 "nbformat": 4,
 "nbformat_minor": 2
}
